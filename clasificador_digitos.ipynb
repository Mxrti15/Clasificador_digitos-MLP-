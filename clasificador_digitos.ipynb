{
 "cells": [
  {
   "cell_type": "code",
   "execution_count": null,
   "id": "2d2f1d6a",
   "metadata": {},
   "outputs": [
    {
     "name": "stderr",
     "output_type": "stream",
     "text": [
      "100.0%\n",
      "100.0%\n",
      "100.0%\n",
      "100.0%\n"
     ]
    }
   ],
   "source": [
    "# Importamos PyTorch y submódulos\n",
    "import torch                     # Núcleo de PyTorch: tensores, operaciones y autograd\n",
    "import torch.nn as nn            # Para construir redes neuronales (capas, activaciones)\n",
    "import torch.optim as optim      # Optimización (SGD, Adam, etc.)\n",
    "from torchvision import datasets, transforms  # Para cargar datasets y transformaciones\n",
    "\n",
    "# Transformación: convierte imágenes a tensores y normaliza valores a [0,1]\n",
    "transform = transforms.ToTensor()\n",
    "\n",
    "# Cargamos y obtenemos el dataset MNIST (imágenes 28x28 de dígitos 0-9)\n",
    "train_data = datasets.MNIST(root=\"./data\", train=True, download=True, transform=transform)\n",
    "test_data = datasets.MNIST(root=\"./data\", train=False, download=True, transform=transform)\n",
    "\n",
    "# Creamos \"DataLoaders\" para manejar lotes de datos y mezclar el dataset\n",
    "# nos trae los datos en pequeños batch 64 imag para entrenar, shuffle mezcla imagenes\n",
    "train_loader = torch.utils.data.DataLoader(train_data, batch_size=64, shuffle=True)\n",
    "test_loader = torch.utils.data.DataLoader(test_data, batch_size=1000, shuffle=False)"
   ]
  },
  {
   "cell_type": "code",
   "execution_count": null,
   "id": "44ccad43",
   "metadata": {},
   "outputs": [],
   "source": [
    "# Definimos nuestra red neuronal (MLP) hereda de nn.module clase base\n",
    "class MLP(nn.Module):\n",
    "    def __init__(self):\n",
    "        # llama al contructor de la clase padre nn.module\n",
    "        super().__init__()\n",
    "        # Secuencia de capas: Flatten → Linear → ReLU → Linear → ReLU → Linear\n",
    "        self.layers = nn.Sequential(\n",
    "            nn.Flatten(),          # Convierte imagen 28x28 a vector de 784 elementos\n",
    "            nn.Linear(28*28, 128), # Capa oculta de 128 neuronas\n",
    "            nn.ReLU(),             # Función de activación ReLU\n",
    "            nn.Linear(128, 64),    # Segunda capa oculta de 64 neuronas\n",
    "            nn.ReLU(),             # Activación ReLU\n",
    "            nn.Linear(64, 10)      # Capa de salida: 10 clases (dígitos 0-9)\n",
    "        )\n",
    "    # x es un batch de imagenes, self.layers aplica a las capas un oorden.\n",
    "    def forward(self, x):\n",
    "        # Devuelve un tensor de forma batch 10 prediccion de probabilidad para cada clase 0-9\n",
    "        return self.layers(x) # Define el flujo de datos hacia adelante \n",
    "    \n",
    "# Creamos una instancia del modelo\n",
    "model = MLP()"
   ]
  },
  {
   "cell_type": "code",
   "execution_count": null,
   "id": "149703fe",
   "metadata": {},
   "outputs": [],
   "source": [
    "# Definimos la función de pérdida (cross-entropy para clasificación multi-clase)\n",
    "# Mide que tan mal predice el modelo.\n",
    "criterion = nn.CrossEntropyLoss()\n",
    "\n",
    "# Definimos el optimizador (Adam) para actualizar los pesos del modelo\n",
    "# Es el motor del aprendizaje: mira los errores, ajusta los pesos de la red, en resumen es quien aprende.\n",
    "optimizer = optim.Adam(model.parameters(), lr=0.001)\n"
   ]
  },
  {
   "cell_type": "code",
   "execution_count": null,
   "id": "ed0be34b",
   "metadata": {},
   "outputs": [
    {
     "name": "stdout",
     "output_type": "stream",
     "text": [
      "Época 1, pérdida promedio: 0.3414\n",
      "Época 2, pérdida promedio: 0.1423\n",
      "Época 3, pérdida promedio: 0.0972\n",
      "Época 4, pérdida promedio: 0.0728\n",
      "Época 5, pérdida promedio: 0.0570\n"
     ]
    }
   ],
   "source": [
    "# --------- Entrenamiento ---------\n",
    "for epoch in range(5):  # Iteramos 5 veces sobre todo el dataset\n",
    "    model.train()        # Indicamos que estamos entrenando (activa dropout, batchnorm si hubiera)\n",
    "    total_loss = 0       # Para acumular la pérdida de cada batch\n",
    "    for X, y in train_loader:  # Iteramos por cada lote de imágenes y etiquetas\n",
    "        optimizer.zero_grad()   # Reiniciamos los gradientes(errores) del paso anterior\n",
    "        y_pred = model(X)      # Pasamos el batch por la red (forward pass) = hacer prediccion\n",
    "        loss = criterion(y_pred, y)  # Calculamos la pérdida entre predicción y etiqueta\n",
    "        loss.backward()        # Calculamos gradientes(errores) (backpropagation)\n",
    "        optimizer.step()       # Actualizamos pesos según el optimizador\n",
    "        total_loss += loss.item()  # Acumulamos la pérdida del batch, perdida promedio\n",
    "    # Mostramos la pérdida promedio de la época\n",
    "    # Por cada iteracion deberia mostrar una prdida mas baja\n",
    "    print(f\"Época {epoch+1}, pérdida promedio: {total_loss/len(train_loader):.4f}\")"
   ]
  },
  {
   "cell_type": "code",
   "execution_count": null,
   "id": "eaeeae34",
   "metadata": {},
   "outputs": [
    {
     "name": "stdout",
     "output_type": "stream",
     "text": [
      "Precisión en test: 97.25%\n"
     ]
    }
   ],
   "source": [
    "# --------- Evaluación ---------\n",
    "correct = 0\n",
    "total = 0\n",
    "model.eval()   # Indicamos que estamos evaluando (desactiva dropout, batchnorm)\n",
    "with torch.no_grad():  # No necesitamos calcular gradientes(errores) en evaluación\n",
    "    for X, y in test_loader:\n",
    "        y_pred = model(X)             # Forward pass\n",
    "        _, predicted = torch.max(y_pred, 1)  # Tomamos la clase con mayor probabilidad\n",
    "        total += y.size(0)            # Contamos número total de imágenes\n",
    "        correct += (predicted == y).sum().item()  # Contamos aciertos\n",
    "\n",
    "# Mostramos precisión en el dataset de test\n",
    "print(f\"Precisión en test: {100 * correct / total:.2f}%\")"
   ]
  }
 ],
 "metadata": {
  "kernelspec": {
   "display_name": "Python 3",
   "language": "python",
   "name": "python3"
  },
  "language_info": {
   "codemirror_mode": {
    "name": "ipython",
    "version": 3
   },
   "file_extension": ".py",
   "mimetype": "text/x-python",
   "name": "python",
   "nbconvert_exporter": "python",
   "pygments_lexer": "ipython3",
   "version": "3.12.6"
  }
 },
 "nbformat": 4,
 "nbformat_minor": 5
}
